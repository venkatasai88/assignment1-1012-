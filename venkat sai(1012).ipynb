{
 "cells": [
  {
   "cell_type": "markdown",
   "metadata": {},
   "source": [
    "1.simple calculations"
   ]
  },
  {
   "cell_type": "code",
   "execution_count": 1,
   "metadata": {},
   "outputs": [
    {
     "name": "stdout",
     "output_type": "stream",
     "text": [
      "32\n"
     ]
    }
   ],
   "source": [
    "x,y=30,2\n",
    "z=x+y\n",
    "print(z)"
   ]
  },
  {
   "cell_type": "code",
   "execution_count": 2,
   "metadata": {},
   "outputs": [
    {
     "name": "stdout",
     "output_type": "stream",
     "text": [
      "20\n"
     ]
    }
   ],
   "source": [
    "x,y=50,30\n",
    "z=x-y\n",
    "print(z)"
   ]
  },
  {
   "cell_type": "code",
   "execution_count": 3,
   "metadata": {},
   "outputs": [
    {
     "name": "stdout",
     "output_type": "stream",
     "text": [
      "80\n"
     ]
    }
   ],
   "source": [
    "x,y=40,2\n",
    "z=x*y\n",
    "print(z)"
   ]
  },
  {
   "cell_type": "code",
   "execution_count": 4,
   "metadata": {},
   "outputs": [
    {
     "name": "stdout",
     "output_type": "stream",
     "text": [
      "10\n"
     ]
    }
   ],
   "source": [
    "x,y= 20,2\n",
    "z=x//y\n",
    "print(z)"
   ]
  },
  {
   "cell_type": "code",
   "execution_count": 5,
   "metadata": {},
   "outputs": [
    {
     "name": "stdout",
     "output_type": "stream",
     "text": [
      "5.0\n"
     ]
    }
   ],
   "source": [
    "x,y=20,4\n",
    "z=x/y\n",
    "print(z)"
   ]
  },
  {
   "cell_type": "code",
   "execution_count": 6,
   "metadata": {},
   "outputs": [
    {
     "name": "stdout",
     "output_type": "stream",
     "text": [
      "0\n"
     ]
    }
   ],
   "source": [
    "x,y=60,20\n",
    "z=x%y\n",
    "print(z)"
   ]
  },
  {
   "cell_type": "markdown",
   "metadata": {},
   "source": [
    "2.simple intrest"
   ]
  },
  {
   "cell_type": "code",
   "execution_count": 7,
   "metadata": {},
   "outputs": [
    {
     "name": "stdout",
     "output_type": "stream",
     "text": [
      "principle is:200\n",
      "time is:3\n",
      "rate is:1\n",
      "simple intrest is 6.0\n"
     ]
    }
   ],
   "source": [
    "p=int(input(\"principle is:\"))\n",
    "t=int(input(\"time is:\"))\n",
    "r=int(input(\"rate is:\"))\n",
    "si=(p*t*r)/100\n",
    "print(\"simple intrest is\",si)"
   ]
  },
  {
   "cell_type": "markdown",
   "metadata": {},
   "source": [
    "3.area of circle"
   ]
  },
  {
   "cell_type": "code",
   "execution_count": 8,
   "metadata": {},
   "outputs": [
    {
     "name": "stdout",
     "output_type": "stream",
     "text": [
      "radius is2\n",
      "area of circle is 12.568\n"
     ]
    }
   ],
   "source": [
    "r=int(input(\"radius is\"))\n",
    "pi=3.142\n",
    "a=pi*r*r\n",
    "print(\"area of circle is\",a)"
   ]
  },
  {
   "cell_type": "markdown",
   "metadata": {},
   "source": [
    "4.area of triangle"
   ]
  },
  {
   "cell_type": "code",
   "execution_count": 9,
   "metadata": {},
   "outputs": [
    {
     "name": "stdout",
     "output_type": "stream",
     "text": [
      "breadth is6\n",
      "height is3\n",
      "area of triangle is 9.0\n"
     ]
    }
   ],
   "source": [
    "b=int(input(\"breadth is\"))\n",
    "h=int(input(\"height is\"))\n",
    "a=0.5*b*h\n",
    "print(\"area of triangle is\",a)"
   ]
  },
  {
   "cell_type": "markdown",
   "metadata": {},
   "source": [
    "5.perimeter of square"
   ]
  },
  {
   "cell_type": "code",
   "execution_count": 10,
   "metadata": {},
   "outputs": [
    {
     "name": "stdout",
     "output_type": "stream",
     "text": [
      "side of square:4\n",
      "perimeter of square is:  4\n"
     ]
    }
   ],
   "source": [
    "a=int(input(\"side of square:\"))\n",
    "p=4*a\n",
    "print(\"perimeter of square is: \",a)"
   ]
  },
  {
   "cell_type": "markdown",
   "metadata": {},
   "source": [
    "6.area of rectangle"
   ]
  },
  {
   "cell_type": "code",
   "execution_count": 11,
   "metadata": {},
   "outputs": [
    {
     "name": "stdout",
     "output_type": "stream",
     "text": [
      "enter length:3\n",
      "enter breadth:4\n",
      "area of rectangle is: 12\n"
     ]
    }
   ],
   "source": [
    "l=int(input(\"enter length:\"))\n",
    "b=int(input(\"enter breadth:\"))\n",
    "a=l*b\n",
    "print(\"area of rectangle is:\",a)"
   ]
  },
  {
   "cell_type": "markdown",
   "metadata": {},
   "source": [
    "7.circumference of a circle"
   ]
  },
  {
   "cell_type": "code",
   "execution_count": 12,
   "metadata": {},
   "outputs": [
    {
     "name": "stdout",
     "output_type": "stream",
     "text": [
      "enter radius of circle:2\n",
      "circumference of circle is 12.568\n"
     ]
    }
   ],
   "source": [
    "r=int(input(\"enter radius of circle:\"))\n",
    "pi=3.142\n",
    "c=2*pi*r\n",
    "print(\"circumference of circle is\",c)"
   ]
  },
  {
   "cell_type": "markdown",
   "metadata": {},
   "source": [
    "8.swapping two numbers"
   ]
  },
  {
   "cell_type": "code",
   "execution_count": 13,
   "metadata": {},
   "outputs": [
    {
     "name": "stdout",
     "output_type": "stream",
     "text": [
      "enter the value of x:4\n",
      "enter the value of y:5\n",
      "after swapping\n",
      "enter the value of x 5\n",
      "enter the value of y 4\n"
     ]
    }
   ],
   "source": [
    "x=int(input(\"enter the value of x:\"))\n",
    "y=int(input(\"enter the value of y:\"))\n",
    "print(\"after swapping\")\n",
    "temp=x\n",
    "x=y\n",
    "y=temp\n",
    "print(\"enter the value of x\",x)\n",
    "print(\"enter the value of y\",y)"
   ]
  },
  {
   "cell_type": "markdown",
   "metadata": {},
   "source": [
    "9.convert temperature in celsius to farenheit"
   ]
  },
  {
   "cell_type": "code",
   "execution_count": 14,
   "metadata": {},
   "outputs": [
    {
     "name": "stdout",
     "output_type": "stream",
     "text": [
      "temperature in centigrade:100\n",
      "temperature in farenheit is 212.0\n"
     ]
    }
   ],
   "source": [
    "c=int(input(\"temperature in centigrade:\"))\n",
    "f=(1.8*c)+32\n",
    "print(\"temperature in farenheit is\",f)"
   ]
  },
  {
   "cell_type": "code",
   "execution_count": null,
   "metadata": {},
   "outputs": [],
   "source": []
  }
 ],
 "metadata": {
  "kernelspec": {
   "display_name": "Python 3",
   "language": "python",
   "name": "python3"
  },
  "language_info": {
   "codemirror_mode": {
    "name": "ipython",
    "version": 3
   },
   "file_extension": ".py",
   "mimetype": "text/x-python",
   "name": "python",
   "nbconvert_exporter": "python",
   "pygments_lexer": "ipython3",
   "version": "3.7.4"
  }
 },
 "nbformat": 4,
 "nbformat_minor": 2
}
